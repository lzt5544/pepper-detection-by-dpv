{
 "cells": [
  {
   "cell_type": "code",
   "execution_count": 33,
   "metadata": {},
   "outputs": [],
   "source": [
    "import os\n",
    "import numpy as np\n",
    "import pandas as pd\n",
    "import matplotlib.pyplot as plt\n",
    "import json\n",
    "from preprocessing import *\n",
    "from sklearn.model_selection import KFold, train_test_split\n",
    "from sklearn.metrics import confusion_matrix\n",
    "from autogluon.tabular import TabularPredictor as tb"
   ]
  },
  {
   "cell_type": "code",
   "execution_count": 34,
   "metadata": {},
   "outputs": [],
   "source": [
    "def load_config(path:str):\n",
    "    with open(path) as f:\n",
    "        config = json.load(f)\n",
    "    return config\n",
    "\n",
    "def load_data(path:str):\n",
    "    data = pd.read_excel(path, index_col=0)\n",
    "    x = data.iloc[:,:-1]\n",
    "    y = data.iloc[:,-1]\n",
    "    return x, y\n",
    "\n",
    "def changed_columns_mapping(extra_metrics, prefix):\n",
    "    res = {\n",
    "        'score_test': f'{prefix}_loss'\n",
    "    }\n",
    "    for metric in extra_metrics:\n",
    "        res.update({metric : f'{prefix}_{metric}'})\n",
    "    return res\n",
    "\n",
    "def get_res(res, useful_columns, prefix):\n",
    "    extra_metrics = useful_columns[2:]\n",
    "    return res.loc[:,useful_columns].rename(columns=changed_columns_mapping(extra_metrics, prefix)).set_index(res.iloc[:,0].values).drop(columns=['model'])\n",
    "\n",
    "def split_dataset(x, y, test_size=0.2, random_state=0, fold_num=3):\n",
    "    x_train, x_test, y_train, y_test = train_test_split(x, y, test_size=test_size, random_state=random_state)\n",
    "    x_train = x_train.reset_index(drop=True)\n",
    "    x_test = x_test.reset_index(drop=True)\n",
    "    y_train = y_train.reset_index(drop=True)\n",
    "    y_test = y_test.reset_index(drop=True)\n",
    "    data_test = pd.concat((x_test,y_test),axis=1)\n",
    "    skf = KFold(n_splits=fold_num, shuffle=True, random_state=random_state)\n",
    "    dataset = []\n",
    "    for i, (train_idx, val_idx) in enumerate(skf.split(x_train, y_train)):\n",
    "        train_data = pd.concat((x_train.iloc[train_idx],y_train.iloc[train_idx]),axis=1)\n",
    "        val_data = pd.concat((x_train.iloc[val_idx],y_train.iloc[val_idx]),axis=1)\n",
    "        dataset.append([train_data,val_data])\n",
    "    return dataset, data_test\n",
    "\n",
    "def fit_and_test_model(models_config, x, y, hyperparameters, extra_metrics):\n",
    "    dataset, data_test = split_dataset(x, y)\n",
    "    r = []\n",
    "    for data_train, data_val in dataset:\n",
    "        models = tb(**models_config)\n",
    "        models.fit(data_train,hyperparameters=hyperparameters)\n",
    "        train_res = models.leaderboard(data_train,silent=True,extra_metrics=extra_metrics)\n",
    "        cv_res = models.leaderboard(data_val,silent=True,extra_metrics=extra_metrics)\n",
    "        test_res = models.leaderboard(data_test,silent=True,extra_metrics=extra_metrics)\n",
    "        useful_columns = ['model','score_test']\n",
    "        useful_columns.extend(extra_metrics)\n",
    "        train_res = get_res(train_res, useful_columns, 'train')\n",
    "        cv_res = get_res(cv_res, useful_columns, 'cv')\n",
    "        test_res = get_res(test_res, useful_columns, 'test')\n",
    "        r.append(pd.concat((train_res,cv_res,test_res), axis=1))\n",
    "    return (r[0] + r[1] + r[2]) / 3\n",
    "\n",
    "# def train_re(x, y):\n",
    "#     hyperparameters={\n",
    "#         'KNN':[{'weights': 'distance', 'ag_args': {'name_suffix': 'Dist'}}],\n",
    "#         'XGB': {},\n",
    "#         'NN_TORCH':{},\n",
    "#         'LR':{}\n",
    "#     }\n",
    "#     extra_metrics=['r2']\n",
    "#     models_config = {\n",
    "#         'label' : 'Sensory score',\n",
    "#         'problem_type' : 'regression',\n",
    "#         'eval_metric' : 'root_mean_squared_error',\n",
    "#         'path' : r'.\\models\\reg',\n",
    "#         'verbosity' : 1\n",
    "#     }\n",
    "#     return fit_and_test_model(models_config, x, y, hyperparameters, extra_metrics)\n",
    "\n",
    "# def train_clf(x,y):\n",
    "#     hyperparameters={\n",
    "#         'KNN':[{'weights': 'distance', 'ag_args': {'name_suffix': 'Dist'}}],\n",
    "#         'FASTAI':{},\n",
    "#         'XGB': {},\n",
    "#         'LR':{}\n",
    "#     }\n",
    "#     extra_metrics=['accuracy']\n",
    "#     models_config = {\n",
    "#         'label' : 'class',\n",
    "#         'problem_type' : 'multiclass',\n",
    "#         'eval_metric' : 'log_loss',\n",
    "#         'path' : r'.\\models\\clf',\n",
    "#         'verbosity' : 1\n",
    "#     }\n",
    "#     return fit_and_test_model(models_config, x, y, hyperparameters, extra_metrics)\n",
    "\n",
    "# def train_bil_clf(x,y):\n",
    "#     hyperparameters={\n",
    "#         'KNN':[{'weights': 'distance', 'ag_args': {'name_suffix': 'Dist'}}],\n",
    "#         'FASTAI':{},\n",
    "#         'XGB': {},\n",
    "#         'LR':{}\n",
    "#     }\n",
    "#     extra_metrics=['accuracy','precision','recall','f1','roc_auc']\n",
    "#     models_config = {\n",
    "#         'label' : 'label',\n",
    "#         'problem_type' : 'binary',\n",
    "#         'eval_metric' : 'log_loss',\n",
    "#         'path' : r'.\\models\\bil_clf',\n",
    "#         'verbosity' : 1\n",
    "#     }\n",
    "#     return fit_and_test_model(models_config, x, y, hyperparameters, extra_metrics)\n",
    "\n",
    "def run(x, y, trainer, model_name):\n",
    "    res = {}\n",
    "    print('raw')\n",
    "    res.update({'raw':trainer(x, y)})\n",
    "    for method in [SG,WT,MMS,SS,SNV,D1,D2]:\n",
    "        print(method.__name__)\n",
    "        x_temp = pd.DataFrame(method(x.values))\n",
    "        res.update({method.__name__:trainer(x_temp, y)})\n",
    "    for method1 in [SG,WT]:\n",
    "        for method2 in [MMS,SS,SNV,D1,D2]:\n",
    "            print(method1.__name__,'-',method2.__name__)\n",
    "            x_temp = pd.DataFrame(method2(method1(x.values)))\n",
    "            res.update({f'{method1.__name__}-{method2.__name__}':trainer(x_temp, y)})\n",
    "    for method1 in [SG,WT]:\n",
    "        for method2 in [MMS,SS]:\n",
    "            for method3 in [SNV,D1,D2]:\n",
    "                print(method1.__name__,'-',method2.__name__,'-',method3.__name__)\n",
    "                x_temp = pd.DataFrame(method3(method2(method1(x.values))))\n",
    "                res.update({f'{method1.__name__}-{method2.__name__}-{method3.__name__}':trainer(x_temp, y)})\n",
    "    excel = None\n",
    "    for key,she in res.items():\n",
    "        temp = pd.concat((she.loc[model_name,:],pd.DataFrame([key]*4, index=model_name, columns=['method'])), axis=1)\n",
    "        excel = temp if excel is None else pd.concat((excel,temp))\n",
    "    return excel"
   ]
  },
  {
   "cell_type": "code",
   "execution_count": 35,
   "metadata": {},
   "outputs": [],
   "source": [
    "# data = pd.read_excel(r'.\\dataset\\花椒麻度判别.xlsx', index_col=0)\n",
    "# x = data.iloc[:,:-1]\n",
    "# y = data.iloc[:,-1]\n",
    "# excel = run(x,y,train_re, ['KNeighborsDist', 'LinearModel', 'NeuralNetTorch', 'XGBoost'])\n",
    "# excel.to_excel(r'.\\result\\麻度判别.xlsx')\n",
    "\n",
    "\n",
    "# excel = run(x,y,train_clf, ['KNeighborsDist','LinearModel','NeuralNetFastAI','XGBoost'])\n",
    "# excel.to_excel(r'.\\result\\产地区分.xlsx')\n",
    "\n",
    "# data = pd.read_excel(r'.\\dataset\\花椒掺假检验.xlsx', index_col=0)\n",
    "# ratio = [round(0.2 + i * 0.15, 2) for i in range(5)]\n",
    "# for r in ratio:\n",
    "#     data = pd.concat((data.loc[data.loc[:,'ratio'] == 1], data.loc[data.loc[:,'ratio'] == r]),axis=0).drop(columns='ratio')\n",
    "#     x = data.iloc[:,:-1]\n",
    "#     y = data.iloc[:,-1]\n",
    "#     excel = run(x,y,train_bil_clf,['KNeighborsDist','LinearModel','NeuralNetFastAI','XGBoost'])\n",
    "#     excel.to_excel(rf'.\\result\\掺假检验-{r*100}%.xlsx')"
   ]
  },
  {
   "cell_type": "code",
   "execution_count": 36,
   "metadata": {},
   "outputs": [],
   "source": [
    "# data = pd.read_excel(r'.\\dataset\\花椒麻度判别.xlsx', index_col=0)\n",
    "# x = data.iloc[:,:-1]\n",
    "# y = data.iloc[:,-1]\n",
    "# hyperparameters={\n",
    "#     'KNN':[{'weights': 'distance', 'ag_args': {'name_suffix': 'Dist'}}],\n",
    "#     'XGB': {},\n",
    "#     'NN_TORCH':{},\n",
    "#     'LR':{}\n",
    "# }\n",
    "# extra_metrics=['r2']\n",
    "# models_config = {\n",
    "#     'label' : 'Sensory score',\n",
    "#     'problem_type' : 'regression',\n",
    "#     'eval_metric' : 'mean_squared_error',\n",
    "#     'path' : r'.\\models\\reg',\n",
    "#     'verbosity' : 2\n",
    "# }\n",
    "# res = fit_and_test_model(models_config, x, y, hyperparameters, extra_metrics)\n",
    "# # models = tb(label='Sensory score', problem_type='regression', eval_metric='mean_squared_error', path='./', verbosity=2)\n",
    "# # models.fit(data)"
   ]
  },
  {
   "cell_type": "code",
   "execution_count": 48,
   "metadata": {},
   "outputs": [
    {
     "data": {
      "text/plain": [
       "['KNeighborsDist', 'LinearModel', 'NeuralNetFastAI', 'XGBoost']"
      ]
     },
     "execution_count": 48,
     "metadata": {},
     "output_type": "execute_result"
    }
   ],
   "source": []
  },
  {
   "cell_type": "code",
   "execution_count": 41,
   "metadata": {},
   "outputs": [
    {
     "name": "stdout",
     "output_type": "stream",
     "text": [
      "run：pepper_ma\n"
     ]
    },
    {
     "name": "stderr",
     "output_type": "stream",
     "text": [
      "Warning: path already exists! This predictor may overwrite an existing predictor! path=\"./models/reg\"\n"
     ]
    },
    {
     "name": "stdout",
     "output_type": "stream",
     "text": [
      "raw\n"
     ]
    },
    {
     "name": "stderr",
     "output_type": "stream",
     "text": [
      "Warning: path already exists! This predictor may overwrite an existing predictor! path=\"./models/reg\"\n",
      "Warning: path already exists! This predictor may overwrite an existing predictor! path=\"./models/reg\"\n"
     ]
    },
    {
     "name": "stdout",
     "output_type": "stream",
     "text": [
      "SG\n"
     ]
    },
    {
     "name": "stderr",
     "output_type": "stream",
     "text": [
      "Warning: path already exists! This predictor may overwrite an existing predictor! path=\"./models/reg\"\n",
      "Warning: path already exists! This predictor may overwrite an existing predictor! path=\"./models/reg\"\n",
      "Warning: path already exists! This predictor may overwrite an existing predictor! path=\"./models/reg\"\n",
      "Warning: path already exists! This predictor may overwrite an existing predictor! path=\"./models/reg\"\n"
     ]
    },
    {
     "name": "stdout",
     "output_type": "stream",
     "text": [
      "WT\n"
     ]
    },
    {
     "name": "stderr",
     "output_type": "stream",
     "text": [
      "Warning: path already exists! This predictor may overwrite an existing predictor! path=\"./models/reg\"\n",
      "Warning: path already exists! This predictor may overwrite an existing predictor! path=\"./models/reg\"\n",
      "Warning: path already exists! This predictor may overwrite an existing predictor! path=\"./models/reg\"\n"
     ]
    },
    {
     "name": "stdout",
     "output_type": "stream",
     "text": [
      "MMS\n"
     ]
    },
    {
     "name": "stderr",
     "output_type": "stream",
     "text": [
      "Warning: path already exists! This predictor may overwrite an existing predictor! path=\"./models/reg\"\n",
      "Warning: path already exists! This predictor may overwrite an existing predictor! path=\"./models/reg\"\n",
      "Warning: path already exists! This predictor may overwrite an existing predictor! path=\"./models/reg\"\n"
     ]
    },
    {
     "name": "stdout",
     "output_type": "stream",
     "text": [
      "SS\n"
     ]
    },
    {
     "name": "stderr",
     "output_type": "stream",
     "text": [
      "Warning: path already exists! This predictor may overwrite an existing predictor! path=\"./models/reg\"\n",
      "Warning: path already exists! This predictor may overwrite an existing predictor! path=\"./models/reg\"\n",
      "Warning: path already exists! This predictor may overwrite an existing predictor! path=\"./models/reg\"\n"
     ]
    },
    {
     "name": "stdout",
     "output_type": "stream",
     "text": [
      "SNV\n"
     ]
    },
    {
     "name": "stderr",
     "output_type": "stream",
     "text": [
      "Warning: path already exists! This predictor may overwrite an existing predictor! path=\"./models/reg\"\n",
      "Warning: path already exists! This predictor may overwrite an existing predictor! path=\"./models/reg\"\n",
      "Warning: path already exists! This predictor may overwrite an existing predictor! path=\"./models/reg\"\n"
     ]
    },
    {
     "name": "stdout",
     "output_type": "stream",
     "text": [
      "D1\n"
     ]
    },
    {
     "name": "stderr",
     "output_type": "stream",
     "text": [
      "Warning: path already exists! This predictor may overwrite an existing predictor! path=\"./models/reg\"\n",
      "Warning: path already exists! This predictor may overwrite an existing predictor! path=\"./models/reg\"\n",
      "Warning: path already exists! This predictor may overwrite an existing predictor! path=\"./models/reg\"\n"
     ]
    },
    {
     "name": "stdout",
     "output_type": "stream",
     "text": [
      "D2\n"
     ]
    },
    {
     "name": "stderr",
     "output_type": "stream",
     "text": [
      "Warning: path already exists! This predictor may overwrite an existing predictor! path=\"./models/reg\"\n",
      "Warning: path already exists! This predictor may overwrite an existing predictor! path=\"./models/reg\"\n",
      "Warning: path already exists! This predictor may overwrite an existing predictor! path=\"./models/reg\"\n"
     ]
    },
    {
     "name": "stdout",
     "output_type": "stream",
     "text": [
      "SG - MMS\n"
     ]
    },
    {
     "name": "stderr",
     "output_type": "stream",
     "text": [
      "Warning: path already exists! This predictor may overwrite an existing predictor! path=\"./models/reg\"\n",
      "Warning: path already exists! This predictor may overwrite an existing predictor! path=\"./models/reg\"\n",
      "Warning: path already exists! This predictor may overwrite an existing predictor! path=\"./models/reg\"\n"
     ]
    },
    {
     "name": "stdout",
     "output_type": "stream",
     "text": [
      "SG - SS\n"
     ]
    },
    {
     "name": "stderr",
     "output_type": "stream",
     "text": [
      "Warning: path already exists! This predictor may overwrite an existing predictor! path=\"./models/reg\"\n",
      "Warning: path already exists! This predictor may overwrite an existing predictor! path=\"./models/reg\"\n",
      "Warning: path already exists! This predictor may overwrite an existing predictor! path=\"./models/reg\"\n"
     ]
    },
    {
     "name": "stdout",
     "output_type": "stream",
     "text": [
      "SG - SNV\n"
     ]
    },
    {
     "name": "stderr",
     "output_type": "stream",
     "text": [
      "Warning: path already exists! This predictor may overwrite an existing predictor! path=\"./models/reg\"\n",
      "Warning: path already exists! This predictor may overwrite an existing predictor! path=\"./models/reg\"\n",
      "Warning: path already exists! This predictor may overwrite an existing predictor! path=\"./models/reg\"\n"
     ]
    },
    {
     "name": "stdout",
     "output_type": "stream",
     "text": [
      "SG - D1\n"
     ]
    },
    {
     "name": "stderr",
     "output_type": "stream",
     "text": [
      "Warning: path already exists! This predictor may overwrite an existing predictor! path=\"./models/reg\"\n",
      "Warning: path already exists! This predictor may overwrite an existing predictor! path=\"./models/reg\"\n",
      "Warning: path already exists! This predictor may overwrite an existing predictor! path=\"./models/reg\"\n"
     ]
    },
    {
     "name": "stdout",
     "output_type": "stream",
     "text": [
      "SG - D2\n"
     ]
    },
    {
     "name": "stderr",
     "output_type": "stream",
     "text": [
      "Warning: path already exists! This predictor may overwrite an existing predictor! path=\"./models/reg\"\n",
      "Warning: path already exists! This predictor may overwrite an existing predictor! path=\"./models/reg\"\n",
      "Warning: path already exists! This predictor may overwrite an existing predictor! path=\"./models/reg\"\n"
     ]
    },
    {
     "name": "stdout",
     "output_type": "stream",
     "text": [
      "WT - MMS\n"
     ]
    },
    {
     "name": "stderr",
     "output_type": "stream",
     "text": [
      "Warning: path already exists! This predictor may overwrite an existing predictor! path=\"./models/reg\"\n",
      "Warning: path already exists! This predictor may overwrite an existing predictor! path=\"./models/reg\"\n",
      "Warning: path already exists! This predictor may overwrite an existing predictor! path=\"./models/reg\"\n"
     ]
    },
    {
     "name": "stdout",
     "output_type": "stream",
     "text": [
      "WT - SS\n"
     ]
    },
    {
     "name": "stderr",
     "output_type": "stream",
     "text": [
      "Warning: path already exists! This predictor may overwrite an existing predictor! path=\"./models/reg\"\n",
      "Warning: path already exists! This predictor may overwrite an existing predictor! path=\"./models/reg\"\n",
      "Warning: path already exists! This predictor may overwrite an existing predictor! path=\"./models/reg\"\n"
     ]
    },
    {
     "name": "stdout",
     "output_type": "stream",
     "text": [
      "WT - SNV\n"
     ]
    },
    {
     "name": "stderr",
     "output_type": "stream",
     "text": [
      "Warning: path already exists! This predictor may overwrite an existing predictor! path=\"./models/reg\"\n",
      "Warning: path already exists! This predictor may overwrite an existing predictor! path=\"./models/reg\"\n",
      "Warning: path already exists! This predictor may overwrite an existing predictor! path=\"./models/reg\"\n"
     ]
    },
    {
     "name": "stdout",
     "output_type": "stream",
     "text": [
      "WT - D1\n"
     ]
    },
    {
     "name": "stderr",
     "output_type": "stream",
     "text": [
      "Warning: path already exists! This predictor may overwrite an existing predictor! path=\"./models/reg\"\n",
      "Warning: path already exists! This predictor may overwrite an existing predictor! path=\"./models/reg\"\n",
      "Warning: path already exists! This predictor may overwrite an existing predictor! path=\"./models/reg\"\n"
     ]
    },
    {
     "name": "stdout",
     "output_type": "stream",
     "text": [
      "WT - D2\n"
     ]
    },
    {
     "name": "stderr",
     "output_type": "stream",
     "text": [
      "Warning: path already exists! This predictor may overwrite an existing predictor! path=\"./models/reg\"\n",
      "Warning: path already exists! This predictor may overwrite an existing predictor! path=\"./models/reg\"\n",
      "Warning: path already exists! This predictor may overwrite an existing predictor! path=\"./models/reg\"\n"
     ]
    },
    {
     "name": "stdout",
     "output_type": "stream",
     "text": [
      "SG - MMS - SNV\n"
     ]
    },
    {
     "name": "stderr",
     "output_type": "stream",
     "text": [
      "Warning: path already exists! This predictor may overwrite an existing predictor! path=\"./models/reg\"\n",
      "Warning: path already exists! This predictor may overwrite an existing predictor! path=\"./models/reg\"\n",
      "Warning: path already exists! This predictor may overwrite an existing predictor! path=\"./models/reg\"\n"
     ]
    },
    {
     "name": "stdout",
     "output_type": "stream",
     "text": [
      "SG - MMS - D1\n"
     ]
    },
    {
     "name": "stderr",
     "output_type": "stream",
     "text": [
      "Warning: path already exists! This predictor may overwrite an existing predictor! path=\"./models/reg\"\n",
      "Warning: Large XGB model size may cause OOM error if training continues\n",
      "Available Memory: 501 MB\n",
      "Estimated XGB model size: 16 MB\n",
      "Warning: path already exists! This predictor may overwrite an existing predictor! path=\"./models/reg\"\n",
      "Warning: Large XGB model size may cause OOM error if training continues\n",
      "Available Memory: 485 MB\n",
      "Estimated XGB model size: 6 MB\n",
      "Warning: path already exists! This predictor may overwrite an existing predictor! path=\"./models/reg\"\n"
     ]
    },
    {
     "name": "stdout",
     "output_type": "stream",
     "text": [
      "SG - MMS - D2\n"
     ]
    },
    {
     "name": "stderr",
     "output_type": "stream",
     "text": [
      "Warning: Large XGB model size may cause OOM error if training continues\n",
      "Available Memory: 474 MB\n",
      "Estimated XGB model size: 8 MB\n",
      "Warning: path already exists! This predictor may overwrite an existing predictor! path=\"./models/reg\"\n",
      "Warning: Large XGB model size may cause OOM error if training continues\n",
      "Available Memory: 502 MB\n",
      "Estimated XGB model size: 9 MB\n",
      "Warning: path already exists! This predictor may overwrite an existing predictor! path=\"./models/reg\"\n",
      "Warning: Large XGB model size may cause OOM error if training continues\n",
      "Available Memory: 502 MB\n",
      "Estimated XGB model size: 16 MB\n",
      "Warning: path already exists! This predictor may overwrite an existing predictor! path=\"./models/reg\"\n"
     ]
    },
    {
     "name": "stdout",
     "output_type": "stream",
     "text": [
      "SG - SS - SNV\n"
     ]
    },
    {
     "name": "stderr",
     "output_type": "stream",
     "text": [
      "Warning: path already exists! This predictor may overwrite an existing predictor! path=\"./models/reg\"\n",
      "Warning: path already exists! This predictor may overwrite an existing predictor! path=\"./models/reg\"\n",
      "Warning: path already exists! This predictor may overwrite an existing predictor! path=\"./models/reg\"\n"
     ]
    },
    {
     "name": "stdout",
     "output_type": "stream",
     "text": [
      "SG - SS - D1\n"
     ]
    },
    {
     "name": "stderr",
     "output_type": "stream",
     "text": [
      "Warning: path already exists! This predictor may overwrite an existing predictor! path=\"./models/reg\"\n",
      "Warning: path already exists! This predictor may overwrite an existing predictor! path=\"./models/reg\"\n",
      "Warning: path already exists! This predictor may overwrite an existing predictor! path=\"./models/reg\"\n"
     ]
    },
    {
     "name": "stdout",
     "output_type": "stream",
     "text": [
      "SG - SS - D2\n"
     ]
    },
    {
     "name": "stderr",
     "output_type": "stream",
     "text": [
      "Warning: path already exists! This predictor may overwrite an existing predictor! path=\"./models/reg\"\n",
      "Warning: path already exists! This predictor may overwrite an existing predictor! path=\"./models/reg\"\n",
      "Warning: path already exists! This predictor may overwrite an existing predictor! path=\"./models/reg\"\n"
     ]
    },
    {
     "name": "stdout",
     "output_type": "stream",
     "text": [
      "WT - MMS - SNV\n"
     ]
    },
    {
     "name": "stderr",
     "output_type": "stream",
     "text": [
      "Warning: path already exists! This predictor may overwrite an existing predictor! path=\"./models/reg\"\n",
      "Warning: path already exists! This predictor may overwrite an existing predictor! path=\"./models/reg\"\n",
      "Warning: path already exists! This predictor may overwrite an existing predictor! path=\"./models/reg\"\n"
     ]
    },
    {
     "name": "stdout",
     "output_type": "stream",
     "text": [
      "WT - MMS - D1\n"
     ]
    },
    {
     "name": "stderr",
     "output_type": "stream",
     "text": [
      "Warning: path already exists! This predictor may overwrite an existing predictor! path=\"./models/reg\"\n",
      "Warning: path already exists! This predictor may overwrite an existing predictor! path=\"./models/reg\"\n",
      "Warning: path already exists! This predictor may overwrite an existing predictor! path=\"./models/reg\"\n"
     ]
    },
    {
     "name": "stdout",
     "output_type": "stream",
     "text": [
      "WT - MMS - D2\n"
     ]
    },
    {
     "name": "stderr",
     "output_type": "stream",
     "text": [
      "Warning: path already exists! This predictor may overwrite an existing predictor! path=\"./models/reg\"\n",
      "Warning: path already exists! This predictor may overwrite an existing predictor! path=\"./models/reg\"\n",
      "Warning: path already exists! This predictor may overwrite an existing predictor! path=\"./models/reg\"\n"
     ]
    },
    {
     "name": "stdout",
     "output_type": "stream",
     "text": [
      "WT - SS - SNV\n"
     ]
    },
    {
     "name": "stderr",
     "output_type": "stream",
     "text": [
      "Warning: path already exists! This predictor may overwrite an existing predictor! path=\"./models/reg\"\n",
      "Warning: path already exists! This predictor may overwrite an existing predictor! path=\"./models/reg\"\n",
      "Warning: path already exists! This predictor may overwrite an existing predictor! path=\"./models/reg\"\n"
     ]
    },
    {
     "name": "stdout",
     "output_type": "stream",
     "text": [
      "WT - SS - D1\n"
     ]
    },
    {
     "name": "stderr",
     "output_type": "stream",
     "text": [
      "Warning: path already exists! This predictor may overwrite an existing predictor! path=\"./models/reg\"\n",
      "Warning: path already exists! This predictor may overwrite an existing predictor! path=\"./models/reg\"\n",
      "Warning: path already exists! This predictor may overwrite an existing predictor! path=\"./models/reg\"\n"
     ]
    },
    {
     "name": "stdout",
     "output_type": "stream",
     "text": [
      "WT - SS - D2\n"
     ]
    },
    {
     "name": "stderr",
     "output_type": "stream",
     "text": [
      "Warning: path already exists! This predictor may overwrite an existing predictor! path=\"./models/reg\"\n",
      "Warning: path already exists! This predictor may overwrite an existing predictor! path=\"./models/reg\"\n"
     ]
    },
    {
     "name": "stdout",
     "output_type": "stream",
     "text": [
      "run：pepper_origin\n"
     ]
    },
    {
     "name": "stderr",
     "output_type": "stream",
     "text": [
      "Warning: path already exists! This predictor may overwrite an existing predictor! path=\"./models/clf\"\n"
     ]
    },
    {
     "name": "stdout",
     "output_type": "stream",
     "text": [
      "raw\n"
     ]
    },
    {
     "name": "stderr",
     "output_type": "stream",
     "text": [
      "Warning: path already exists! This predictor may overwrite an existing predictor! path=\"./models/clf\"\n",
      "Warning: path already exists! This predictor may overwrite an existing predictor! path=\"./models/clf\"\n",
      "Warning: path already exists! This predictor may overwrite an existing predictor! path=\"./models/clf\"\n"
     ]
    },
    {
     "name": "stdout",
     "output_type": "stream",
     "text": [
      "SG\n"
     ]
    },
    {
     "name": "stderr",
     "output_type": "stream",
     "text": [
      "Warning: path already exists! This predictor may overwrite an existing predictor! path=\"./models/clf\"\n",
      "Warning: path already exists! This predictor may overwrite an existing predictor! path=\"./models/clf\"\n",
      "Warning: path already exists! This predictor may overwrite an existing predictor! path=\"./models/clf\"\n"
     ]
    },
    {
     "name": "stdout",
     "output_type": "stream",
     "text": [
      "WT\n"
     ]
    },
    {
     "name": "stderr",
     "output_type": "stream",
     "text": [
      "Warning: path already exists! This predictor may overwrite an existing predictor! path=\"./models/clf\"\n",
      "Warning: path already exists! This predictor may overwrite an existing predictor! path=\"./models/clf\"\n",
      "Warning: path already exists! This predictor may overwrite an existing predictor! path=\"./models/clf\"\n"
     ]
    },
    {
     "name": "stdout",
     "output_type": "stream",
     "text": [
      "MMS\n"
     ]
    },
    {
     "name": "stderr",
     "output_type": "stream",
     "text": [
      "Warning: path already exists! This predictor may overwrite an existing predictor! path=\"./models/clf\"\n",
      "Warning: path already exists! This predictor may overwrite an existing predictor! path=\"./models/clf\"\n",
      "Warning: path already exists! This predictor may overwrite an existing predictor! path=\"./models/clf\"\n"
     ]
    },
    {
     "name": "stdout",
     "output_type": "stream",
     "text": [
      "SS\n"
     ]
    },
    {
     "name": "stderr",
     "output_type": "stream",
     "text": [
      "Warning: path already exists! This predictor may overwrite an existing predictor! path=\"./models/clf\"\n",
      "Warning: path already exists! This predictor may overwrite an existing predictor! path=\"./models/clf\"\n",
      "Warning: path already exists! This predictor may overwrite an existing predictor! path=\"./models/clf\"\n"
     ]
    },
    {
     "name": "stdout",
     "output_type": "stream",
     "text": [
      "SNV\n"
     ]
    },
    {
     "name": "stderr",
     "output_type": "stream",
     "text": [
      "Warning: path already exists! This predictor may overwrite an existing predictor! path=\"./models/clf\"\n",
      "Warning: path already exists! This predictor may overwrite an existing predictor! path=\"./models/clf\"\n",
      "Warning: path already exists! This predictor may overwrite an existing predictor! path=\"./models/clf\"\n"
     ]
    },
    {
     "name": "stdout",
     "output_type": "stream",
     "text": [
      "D1\n"
     ]
    },
    {
     "name": "stderr",
     "output_type": "stream",
     "text": [
      "Warning: path already exists! This predictor may overwrite an existing predictor! path=\"./models/clf\"\n",
      "Warning: path already exists! This predictor may overwrite an existing predictor! path=\"./models/clf\"\n",
      "Warning: path already exists! This predictor may overwrite an existing predictor! path=\"./models/clf\"\n"
     ]
    },
    {
     "name": "stdout",
     "output_type": "stream",
     "text": [
      "D2\n"
     ]
    },
    {
     "name": "stderr",
     "output_type": "stream",
     "text": [
      "Warning: path already exists! This predictor may overwrite an existing predictor! path=\"./models/clf\"\n",
      "Warning: path already exists! This predictor may overwrite an existing predictor! path=\"./models/clf\"\n",
      "Warning: path already exists! This predictor may overwrite an existing predictor! path=\"./models/clf\"\n"
     ]
    },
    {
     "name": "stdout",
     "output_type": "stream",
     "text": [
      "SG - MMS\n"
     ]
    },
    {
     "name": "stderr",
     "output_type": "stream",
     "text": [
      "Warning: path already exists! This predictor may overwrite an existing predictor! path=\"./models/clf\"\n",
      "Warning: path already exists! This predictor may overwrite an existing predictor! path=\"./models/clf\"\n",
      "Warning: path already exists! This predictor may overwrite an existing predictor! path=\"./models/clf\"\n"
     ]
    },
    {
     "name": "stdout",
     "output_type": "stream",
     "text": [
      "SG - SS\n"
     ]
    },
    {
     "name": "stderr",
     "output_type": "stream",
     "text": [
      "Warning: path already exists! This predictor may overwrite an existing predictor! path=\"./models/clf\"\n",
      "Warning: path already exists! This predictor may overwrite an existing predictor! path=\"./models/clf\"\n",
      "Warning: path already exists! This predictor may overwrite an existing predictor! path=\"./models/clf\"\n"
     ]
    },
    {
     "name": "stdout",
     "output_type": "stream",
     "text": [
      "SG - SNV\n"
     ]
    },
    {
     "name": "stderr",
     "output_type": "stream",
     "text": [
      "Warning: path already exists! This predictor may overwrite an existing predictor! path=\"./models/clf\"\n",
      "Warning: path already exists! This predictor may overwrite an existing predictor! path=\"./models/clf\"\n",
      "Warning: path already exists! This predictor may overwrite an existing predictor! path=\"./models/clf\"\n"
     ]
    },
    {
     "name": "stdout",
     "output_type": "stream",
     "text": [
      "SG - D1\n"
     ]
    },
    {
     "name": "stderr",
     "output_type": "stream",
     "text": [
      "Warning: path already exists! This predictor may overwrite an existing predictor! path=\"./models/clf\"\n",
      "Warning: path already exists! This predictor may overwrite an existing predictor! path=\"./models/clf\"\n",
      "Warning: path already exists! This predictor may overwrite an existing predictor! path=\"./models/clf\"\n"
     ]
    },
    {
     "name": "stdout",
     "output_type": "stream",
     "text": [
      "SG - D2\n"
     ]
    },
    {
     "name": "stderr",
     "output_type": "stream",
     "text": [
      "Warning: path already exists! This predictor may overwrite an existing predictor! path=\"./models/clf\"\n",
      "Warning: path already exists! This predictor may overwrite an existing predictor! path=\"./models/clf\"\n",
      "Warning: path already exists! This predictor may overwrite an existing predictor! path=\"./models/clf\"\n"
     ]
    },
    {
     "name": "stdout",
     "output_type": "stream",
     "text": [
      "WT - MMS\n"
     ]
    },
    {
     "name": "stderr",
     "output_type": "stream",
     "text": [
      "Warning: path already exists! This predictor may overwrite an existing predictor! path=\"./models/clf\"\n",
      "Warning: path already exists! This predictor may overwrite an existing predictor! path=\"./models/clf\"\n",
      "Warning: path already exists! This predictor may overwrite an existing predictor! path=\"./models/clf\"\n"
     ]
    },
    {
     "name": "stdout",
     "output_type": "stream",
     "text": [
      "WT - SS\n"
     ]
    },
    {
     "name": "stderr",
     "output_type": "stream",
     "text": [
      "Warning: path already exists! This predictor may overwrite an existing predictor! path=\"./models/clf\"\n",
      "Warning: path already exists! This predictor may overwrite an existing predictor! path=\"./models/clf\"\n",
      "Warning: path already exists! This predictor may overwrite an existing predictor! path=\"./models/clf\"\n"
     ]
    },
    {
     "name": "stdout",
     "output_type": "stream",
     "text": [
      "WT - SNV\n"
     ]
    },
    {
     "name": "stderr",
     "output_type": "stream",
     "text": [
      "Warning: path already exists! This predictor may overwrite an existing predictor! path=\"./models/clf\"\n",
      "Warning: path already exists! This predictor may overwrite an existing predictor! path=\"./models/clf\"\n",
      "Warning: path already exists! This predictor may overwrite an existing predictor! path=\"./models/clf\"\n"
     ]
    },
    {
     "name": "stdout",
     "output_type": "stream",
     "text": [
      "WT - D1\n"
     ]
    },
    {
     "name": "stderr",
     "output_type": "stream",
     "text": [
      "Warning: path already exists! This predictor may overwrite an existing predictor! path=\"./models/clf\"\n",
      "Warning: path already exists! This predictor may overwrite an existing predictor! path=\"./models/clf\"\n",
      "Warning: path already exists! This predictor may overwrite an existing predictor! path=\"./models/clf\"\n"
     ]
    },
    {
     "name": "stdout",
     "output_type": "stream",
     "text": [
      "WT - D2\n"
     ]
    },
    {
     "name": "stderr",
     "output_type": "stream",
     "text": [
      "Warning: path already exists! This predictor may overwrite an existing predictor! path=\"./models/clf\"\n",
      "Warning: path already exists! This predictor may overwrite an existing predictor! path=\"./models/clf\"\n",
      "Warning: path already exists! This predictor may overwrite an existing predictor! path=\"./models/clf\"\n"
     ]
    },
    {
     "name": "stdout",
     "output_type": "stream",
     "text": [
      "SG - MMS - SNV\n"
     ]
    },
    {
     "name": "stderr",
     "output_type": "stream",
     "text": [
      "Warning: path already exists! This predictor may overwrite an existing predictor! path=\"./models/clf\"\n",
      "Warning: path already exists! This predictor may overwrite an existing predictor! path=\"./models/clf\"\n",
      "Warning: path already exists! This predictor may overwrite an existing predictor! path=\"./models/clf\"\n"
     ]
    },
    {
     "name": "stdout",
     "output_type": "stream",
     "text": [
      "SG - MMS - D1\n"
     ]
    },
    {
     "name": "stderr",
     "output_type": "stream",
     "text": [
      "Warning: path already exists! This predictor may overwrite an existing predictor! path=\"./models/clf\"\n",
      "Warning: path already exists! This predictor may overwrite an existing predictor! path=\"./models/clf\"\n",
      "Warning: path already exists! This predictor may overwrite an existing predictor! path=\"./models/clf\"\n"
     ]
    },
    {
     "name": "stdout",
     "output_type": "stream",
     "text": [
      "SG - MMS - D2\n"
     ]
    },
    {
     "name": "stderr",
     "output_type": "stream",
     "text": [
      "Warning: path already exists! This predictor may overwrite an existing predictor! path=\"./models/clf\"\n",
      "Warning: path already exists! This predictor may overwrite an existing predictor! path=\"./models/clf\"\n",
      "Warning: path already exists! This predictor may overwrite an existing predictor! path=\"./models/clf\"\n"
     ]
    },
    {
     "name": "stdout",
     "output_type": "stream",
     "text": [
      "SG - SS - SNV\n"
     ]
    },
    {
     "name": "stderr",
     "output_type": "stream",
     "text": [
      "Warning: path already exists! This predictor may overwrite an existing predictor! path=\"./models/clf\"\n",
      "Warning: path already exists! This predictor may overwrite an existing predictor! path=\"./models/clf\"\n",
      "Warning: path already exists! This predictor may overwrite an existing predictor! path=\"./models/clf\"\n"
     ]
    },
    {
     "name": "stdout",
     "output_type": "stream",
     "text": [
      "SG - SS - D1\n"
     ]
    },
    {
     "name": "stderr",
     "output_type": "stream",
     "text": [
      "Warning: path already exists! This predictor may overwrite an existing predictor! path=\"./models/clf\"\n",
      "Warning: path already exists! This predictor may overwrite an existing predictor! path=\"./models/clf\"\n",
      "Warning: path already exists! This predictor may overwrite an existing predictor! path=\"./models/clf\"\n"
     ]
    },
    {
     "name": "stdout",
     "output_type": "stream",
     "text": [
      "SG - SS - D2\n"
     ]
    },
    {
     "name": "stderr",
     "output_type": "stream",
     "text": [
      "Warning: path already exists! This predictor may overwrite an existing predictor! path=\"./models/clf\"\n",
      "Warning: path already exists! This predictor may overwrite an existing predictor! path=\"./models/clf\"\n",
      "Warning: path already exists! This predictor may overwrite an existing predictor! path=\"./models/clf\"\n"
     ]
    },
    {
     "name": "stdout",
     "output_type": "stream",
     "text": [
      "WT - MMS - SNV\n"
     ]
    },
    {
     "name": "stderr",
     "output_type": "stream",
     "text": [
      "Warning: path already exists! This predictor may overwrite an existing predictor! path=\"./models/clf\"\n",
      "Warning: path already exists! This predictor may overwrite an existing predictor! path=\"./models/clf\"\n",
      "Warning: path already exists! This predictor may overwrite an existing predictor! path=\"./models/clf\"\n"
     ]
    },
    {
     "name": "stdout",
     "output_type": "stream",
     "text": [
      "WT - MMS - D1\n"
     ]
    },
    {
     "name": "stderr",
     "output_type": "stream",
     "text": [
      "Warning: path already exists! This predictor may overwrite an existing predictor! path=\"./models/clf\"\n",
      "Warning: path already exists! This predictor may overwrite an existing predictor! path=\"./models/clf\"\n",
      "Warning: path already exists! This predictor may overwrite an existing predictor! path=\"./models/clf\"\n"
     ]
    },
    {
     "name": "stdout",
     "output_type": "stream",
     "text": [
      "WT - MMS - D2\n"
     ]
    },
    {
     "name": "stderr",
     "output_type": "stream",
     "text": [
      "Warning: path already exists! This predictor may overwrite an existing predictor! path=\"./models/clf\"\n",
      "Warning: path already exists! This predictor may overwrite an existing predictor! path=\"./models/clf\"\n"
     ]
    },
    {
     "name": "stdout",
     "output_type": "stream",
     "text": [
      "WT - SS - SNV\n"
     ]
    },
    {
     "name": "stderr",
     "output_type": "stream",
     "text": [
      "Warning: path already exists! This predictor may overwrite an existing predictor! path=\"./models/clf\"\n",
      "Warning: path already exists! This predictor may overwrite an existing predictor! path=\"./models/clf\"\n",
      "Warning: path already exists! This predictor may overwrite an existing predictor! path=\"./models/clf\"\n",
      "Warning: path already exists! This predictor may overwrite an existing predictor! path=\"./models/clf\"\n"
     ]
    },
    {
     "name": "stdout",
     "output_type": "stream",
     "text": [
      "WT - SS - D1\n"
     ]
    },
    {
     "name": "stderr",
     "output_type": "stream",
     "text": [
      "Warning: path already exists! This predictor may overwrite an existing predictor! path=\"./models/clf\"\n",
      "Warning: path already exists! This predictor may overwrite an existing predictor! path=\"./models/clf\"\n",
      "Warning: path already exists! This predictor may overwrite an existing predictor! path=\"./models/clf\"\n"
     ]
    },
    {
     "name": "stdout",
     "output_type": "stream",
     "text": [
      "WT - SS - D2\n"
     ]
    },
    {
     "name": "stderr",
     "output_type": "stream",
     "text": [
      "Warning: path already exists! This predictor may overwrite an existing predictor! path=\"./models/clf\"\n",
      "Warning: path already exists! This predictor may overwrite an existing predictor! path=\"./models/clf\"\n"
     ]
    },
    {
     "ename": "KeyError",
     "evalue": "\"['XGBoost'] not in index\"",
     "output_type": "error",
     "traceback": [
      "\u001b[1;31m---------------------------------------------------------------------------\u001b[0m",
      "\u001b[1;31mKeyError\u001b[0m                                  Traceback (most recent call last)",
      "Cell \u001b[1;32mIn[41], line 11\u001b[0m\n\u001b[0;32m      9\u001b[0m x, y \u001b[39m=\u001b[39m load_data(data_path)\n\u001b[0;32m     10\u001b[0m trainer \u001b[39m=\u001b[39m \u001b[39mlambda\u001b[39;00m  x, y : fit_and_test_model(models_config, x, y, hyperparameters, extra_metrics)\n\u001b[1;32m---> 11\u001b[0m excel \u001b[39m=\u001b[39m run(x, y, trainer, preserve_models)\n\u001b[0;32m     12\u001b[0m excel\u001b[39m.\u001b[39mto_excel(output_path)\n",
      "Cell \u001b[1;32mIn[34], line 128\u001b[0m, in \u001b[0;36mrun\u001b[1;34m(x, y, trainer, model_name)\u001b[0m\n\u001b[0;32m    126\u001b[0m excel \u001b[39m=\u001b[39m \u001b[39mNone\u001b[39;00m\n\u001b[0;32m    127\u001b[0m \u001b[39mfor\u001b[39;00m key,she \u001b[39min\u001b[39;00m res\u001b[39m.\u001b[39mitems():\n\u001b[1;32m--> 128\u001b[0m     temp \u001b[39m=\u001b[39m pd\u001b[39m.\u001b[39mconcat((she\u001b[39m.\u001b[39;49mloc[model_name,:],pd\u001b[39m.\u001b[39mDataFrame([key]\u001b[39m*\u001b[39m\u001b[39m4\u001b[39m,index\u001b[39m=\u001b[39mmodel_name,columns\u001b[39m=\u001b[39m[\u001b[39m'\u001b[39m\u001b[39mmethod\u001b[39m\u001b[39m'\u001b[39m])),axis\u001b[39m=\u001b[39m\u001b[39m1\u001b[39m)\n\u001b[0;32m    129\u001b[0m     excel \u001b[39m=\u001b[39m temp \u001b[39mif\u001b[39;00m excel \u001b[39mis\u001b[39;00m \u001b[39mNone\u001b[39;00m \u001b[39melse\u001b[39;00m pd\u001b[39m.\u001b[39mconcat((excel,temp))\n\u001b[0;32m    130\u001b[0m \u001b[39mreturn\u001b[39;00m excel\n",
      "File \u001b[1;32me:\\anaconda3\\envs\\AutoGluon\\lib\\site-packages\\pandas\\core\\indexing.py:1067\u001b[0m, in \u001b[0;36m_LocationIndexer.__getitem__\u001b[1;34m(self, key)\u001b[0m\n\u001b[0;32m   1065\u001b[0m     \u001b[39mif\u001b[39;00m \u001b[39mself\u001b[39m\u001b[39m.\u001b[39m_is_scalar_access(key):\n\u001b[0;32m   1066\u001b[0m         \u001b[39mreturn\u001b[39;00m \u001b[39mself\u001b[39m\u001b[39m.\u001b[39mobj\u001b[39m.\u001b[39m_get_value(\u001b[39m*\u001b[39mkey, takeable\u001b[39m=\u001b[39m\u001b[39mself\u001b[39m\u001b[39m.\u001b[39m_takeable)\n\u001b[1;32m-> 1067\u001b[0m     \u001b[39mreturn\u001b[39;00m \u001b[39mself\u001b[39;49m\u001b[39m.\u001b[39;49m_getitem_tuple(key)\n\u001b[0;32m   1068\u001b[0m \u001b[39melse\u001b[39;00m:\n\u001b[0;32m   1069\u001b[0m     \u001b[39m# we by definition only have the 0th axis\u001b[39;00m\n\u001b[0;32m   1070\u001b[0m     axis \u001b[39m=\u001b[39m \u001b[39mself\u001b[39m\u001b[39m.\u001b[39maxis \u001b[39mor\u001b[39;00m \u001b[39m0\u001b[39m\n",
      "File \u001b[1;32me:\\anaconda3\\envs\\AutoGluon\\lib\\site-packages\\pandas\\core\\indexing.py:1256\u001b[0m, in \u001b[0;36m_LocIndexer._getitem_tuple\u001b[1;34m(self, tup)\u001b[0m\n\u001b[0;32m   1253\u001b[0m \u001b[39mif\u001b[39;00m \u001b[39mself\u001b[39m\u001b[39m.\u001b[39m_multi_take_opportunity(tup):\n\u001b[0;32m   1254\u001b[0m     \u001b[39mreturn\u001b[39;00m \u001b[39mself\u001b[39m\u001b[39m.\u001b[39m_multi_take(tup)\n\u001b[1;32m-> 1256\u001b[0m \u001b[39mreturn\u001b[39;00m \u001b[39mself\u001b[39;49m\u001b[39m.\u001b[39;49m_getitem_tuple_same_dim(tup)\n",
      "File \u001b[1;32me:\\anaconda3\\envs\\AutoGluon\\lib\\site-packages\\pandas\\core\\indexing.py:924\u001b[0m, in \u001b[0;36m_LocationIndexer._getitem_tuple_same_dim\u001b[1;34m(self, tup)\u001b[0m\n\u001b[0;32m    921\u001b[0m \u001b[39mif\u001b[39;00m com\u001b[39m.\u001b[39mis_null_slice(key):\n\u001b[0;32m    922\u001b[0m     \u001b[39mcontinue\u001b[39;00m\n\u001b[1;32m--> 924\u001b[0m retval \u001b[39m=\u001b[39m \u001b[39mgetattr\u001b[39;49m(retval, \u001b[39mself\u001b[39;49m\u001b[39m.\u001b[39;49mname)\u001b[39m.\u001b[39;49m_getitem_axis(key, axis\u001b[39m=\u001b[39;49mi)\n\u001b[0;32m    925\u001b[0m \u001b[39m# We should never have retval.ndim < self.ndim, as that should\u001b[39;00m\n\u001b[0;32m    926\u001b[0m \u001b[39m#  be handled by the _getitem_lowerdim call above.\u001b[39;00m\n\u001b[0;32m    927\u001b[0m \u001b[39massert\u001b[39;00m retval\u001b[39m.\u001b[39mndim \u001b[39m==\u001b[39m \u001b[39mself\u001b[39m\u001b[39m.\u001b[39mndim\n",
      "File \u001b[1;32me:\\anaconda3\\envs\\AutoGluon\\lib\\site-packages\\pandas\\core\\indexing.py:1301\u001b[0m, in \u001b[0;36m_LocIndexer._getitem_axis\u001b[1;34m(self, key, axis)\u001b[0m\n\u001b[0;32m   1298\u001b[0m     \u001b[39mif\u001b[39;00m \u001b[39mhasattr\u001b[39m(key, \u001b[39m\"\u001b[39m\u001b[39mndim\u001b[39m\u001b[39m\"\u001b[39m) \u001b[39mand\u001b[39;00m key\u001b[39m.\u001b[39mndim \u001b[39m>\u001b[39m \u001b[39m1\u001b[39m:\n\u001b[0;32m   1299\u001b[0m         \u001b[39mraise\u001b[39;00m \u001b[39mValueError\u001b[39;00m(\u001b[39m\"\u001b[39m\u001b[39mCannot index with multidimensional key\u001b[39m\u001b[39m\"\u001b[39m)\n\u001b[1;32m-> 1301\u001b[0m     \u001b[39mreturn\u001b[39;00m \u001b[39mself\u001b[39;49m\u001b[39m.\u001b[39;49m_getitem_iterable(key, axis\u001b[39m=\u001b[39;49maxis)\n\u001b[0;32m   1303\u001b[0m \u001b[39m# nested tuple slicing\u001b[39;00m\n\u001b[0;32m   1304\u001b[0m \u001b[39mif\u001b[39;00m is_nested_tuple(key, labels):\n",
      "File \u001b[1;32me:\\anaconda3\\envs\\AutoGluon\\lib\\site-packages\\pandas\\core\\indexing.py:1239\u001b[0m, in \u001b[0;36m_LocIndexer._getitem_iterable\u001b[1;34m(self, key, axis)\u001b[0m\n\u001b[0;32m   1236\u001b[0m \u001b[39mself\u001b[39m\u001b[39m.\u001b[39m_validate_key(key, axis)\n\u001b[0;32m   1238\u001b[0m \u001b[39m# A collection of keys\u001b[39;00m\n\u001b[1;32m-> 1239\u001b[0m keyarr, indexer \u001b[39m=\u001b[39m \u001b[39mself\u001b[39;49m\u001b[39m.\u001b[39;49m_get_listlike_indexer(key, axis)\n\u001b[0;32m   1240\u001b[0m \u001b[39mreturn\u001b[39;00m \u001b[39mself\u001b[39m\u001b[39m.\u001b[39mobj\u001b[39m.\u001b[39m_reindex_with_indexers(\n\u001b[0;32m   1241\u001b[0m     {axis: [keyarr, indexer]}, copy\u001b[39m=\u001b[39m\u001b[39mTrue\u001b[39;00m, allow_dups\u001b[39m=\u001b[39m\u001b[39mTrue\u001b[39;00m\n\u001b[0;32m   1242\u001b[0m )\n",
      "File \u001b[1;32me:\\anaconda3\\envs\\AutoGluon\\lib\\site-packages\\pandas\\core\\indexing.py:1432\u001b[0m, in \u001b[0;36m_LocIndexer._get_listlike_indexer\u001b[1;34m(self, key, axis)\u001b[0m\n\u001b[0;32m   1429\u001b[0m ax \u001b[39m=\u001b[39m \u001b[39mself\u001b[39m\u001b[39m.\u001b[39mobj\u001b[39m.\u001b[39m_get_axis(axis)\n\u001b[0;32m   1430\u001b[0m axis_name \u001b[39m=\u001b[39m \u001b[39mself\u001b[39m\u001b[39m.\u001b[39mobj\u001b[39m.\u001b[39m_get_axis_name(axis)\n\u001b[1;32m-> 1432\u001b[0m keyarr, indexer \u001b[39m=\u001b[39m ax\u001b[39m.\u001b[39;49m_get_indexer_strict(key, axis_name)\n\u001b[0;32m   1434\u001b[0m \u001b[39mreturn\u001b[39;00m keyarr, indexer\n",
      "File \u001b[1;32me:\\anaconda3\\envs\\AutoGluon\\lib\\site-packages\\pandas\\core\\indexes\\base.py:6070\u001b[0m, in \u001b[0;36mIndex._get_indexer_strict\u001b[1;34m(self, key, axis_name)\u001b[0m\n\u001b[0;32m   6067\u001b[0m \u001b[39melse\u001b[39;00m:\n\u001b[0;32m   6068\u001b[0m     keyarr, indexer, new_indexer \u001b[39m=\u001b[39m \u001b[39mself\u001b[39m\u001b[39m.\u001b[39m_reindex_non_unique(keyarr)\n\u001b[1;32m-> 6070\u001b[0m \u001b[39mself\u001b[39;49m\u001b[39m.\u001b[39;49m_raise_if_missing(keyarr, indexer, axis_name)\n\u001b[0;32m   6072\u001b[0m keyarr \u001b[39m=\u001b[39m \u001b[39mself\u001b[39m\u001b[39m.\u001b[39mtake(indexer)\n\u001b[0;32m   6073\u001b[0m \u001b[39mif\u001b[39;00m \u001b[39misinstance\u001b[39m(key, Index):\n\u001b[0;32m   6074\u001b[0m     \u001b[39m# GH 42790 - Preserve name from an Index\u001b[39;00m\n",
      "File \u001b[1;32me:\\anaconda3\\envs\\AutoGluon\\lib\\site-packages\\pandas\\core\\indexes\\base.py:6133\u001b[0m, in \u001b[0;36mIndex._raise_if_missing\u001b[1;34m(self, key, indexer, axis_name)\u001b[0m\n\u001b[0;32m   6130\u001b[0m     \u001b[39mraise\u001b[39;00m \u001b[39mKeyError\u001b[39;00m(\u001b[39mf\u001b[39m\u001b[39m\"\u001b[39m\u001b[39mNone of [\u001b[39m\u001b[39m{\u001b[39;00mkey\u001b[39m}\u001b[39;00m\u001b[39m] are in the [\u001b[39m\u001b[39m{\u001b[39;00maxis_name\u001b[39m}\u001b[39;00m\u001b[39m]\u001b[39m\u001b[39m\"\u001b[39m)\n\u001b[0;32m   6132\u001b[0m not_found \u001b[39m=\u001b[39m \u001b[39mlist\u001b[39m(ensure_index(key)[missing_mask\u001b[39m.\u001b[39mnonzero()[\u001b[39m0\u001b[39m]]\u001b[39m.\u001b[39munique())\n\u001b[1;32m-> 6133\u001b[0m \u001b[39mraise\u001b[39;00m \u001b[39mKeyError\u001b[39;00m(\u001b[39mf\u001b[39m\u001b[39m\"\u001b[39m\u001b[39m{\u001b[39;00mnot_found\u001b[39m}\u001b[39;00m\u001b[39m not in index\u001b[39m\u001b[39m\"\u001b[39m)\n",
      "\u001b[1;31mKeyError\u001b[0m: \"['XGBoost'] not in index\""
     ]
    }
   ],
   "source": [
    "for method, config in load_config('config.json').items():\n",
    "    print(f'run：{method}')\n",
    "    hyperparameters = dict(config['models_choose'])\n",
    "    extra_metrics = list(config['extra_metrics'])\n",
    "    models_config = dict(config['models_config'])\n",
    "    preserve_models = list(config['preserve_models'])\n",
    "    data_path = config[\"data_path\"]\n",
    "    output_path = config['output_path']\n",
    "    x, y = load_data(data_path)\n",
    "    trainer = lambda  x, y : fit_and_test_model(models_config, x, y, hyperparameters, extra_metrics)\n",
    "    excel = run(x, y, trainer, preserve_models)\n",
    "    excel.to_excel(output_path)"
   ]
  },
  {
   "cell_type": "code",
   "execution_count": 39,
   "metadata": {},
   "outputs": [
    {
     "data": {
      "text/plain": [
       "{'r': '2'}"
      ]
     },
     "execution_count": 39,
     "metadata": {},
     "output_type": "execute_result"
    }
   ],
   "source": [
    "extra_metrics"
   ]
  },
  {
   "cell_type": "code",
   "execution_count": null,
   "metadata": {},
   "outputs": [],
   "source": []
  },
  {
   "cell_type": "code",
   "execution_count": null,
   "metadata": {},
   "outputs": [],
   "source": []
  }
 ],
 "metadata": {
  "kernelspec": {
   "display_name": "AutoGluon",
   "language": "python",
   "name": "python3"
  },
  "language_info": {
   "codemirror_mode": {
    "name": "ipython",
    "version": 3
   },
   "file_extension": ".py",
   "mimetype": "text/x-python",
   "name": "python",
   "nbconvert_exporter": "python",
   "pygments_lexer": "ipython3",
   "version": "3.9.16"
  },
  "orig_nbformat": 4
 },
 "nbformat": 4,
 "nbformat_minor": 2
}
